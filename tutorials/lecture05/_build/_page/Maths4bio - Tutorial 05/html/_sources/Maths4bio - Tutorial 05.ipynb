{
 "cells": [
  {
   "cell_type": "markdown",
   "metadata": {},
   "source": [
    "1. Solve the following systems of linear equations\n",
    "    <br/>\n",
    "    \n",
    "    $$\n",
    "        \\mbox{A.}  \\ \n",
    "        \\begin{cases}\n",
    "            5x - y + 2z = 6 \\\\\n",
    "            x + 2y - z = -1 \\\\\n",
    "            3x + 2y - 2z = 1\\\\\n",
    "        \\end{cases}\n",
    "    $$\n",
    "    \n",
    "    <br/>\n",
    "    \n",
    "    $$\n",
    "        \\mbox{B.}  \\ \n",
    "        \\begin{cases}\n",
    "            2x - y + 3z = 3 \\\\\n",
    "            2x + y + 4z = 4 \\\\\n",
    "            2x - 3y + 2z = 2\\\\\n",
    "        \\end{cases}\n",
    "    $$"
   ]
  },
  {
   "cell_type": "markdown",
   "metadata": {},
   "source": [
    "2. Three different species of insects are reared together in a laboratory cage. They are supplied with two different types of food each day. Each individual of species 1 consumes 3 units of food $A$ and 5 units of food $B$, each individual of species 2 consumes 2 units of food $A$ and 3 units of food $B$, and individual of species 3 consumes 1 unit of food $A$ and 2 units of food $B$. Each day, 500 units of food $A$ and 900 units of food $B$ are supplied. How many individuals of each species can be reared together? Is there more than one solution? What happens if we add 550 units of a third type of food, called $C$, and each individual of species 1 consumes 2 units of food $C$, each individual of species 2 consumes 4 units of food $C$, and each individual of species 3 consumes 1 unit of food $C$?"
   ]
  },
  {
   "cell_type": "markdown",
   "metadata": {},
   "source": [
    "3. PRIMER"
   ]
  },
  {
   "cell_type": "markdown",
   "metadata": {},
   "source": [
    "4. PRIMER"
   ]
  },
  {
   "cell_type": "markdown",
   "metadata": {},
   "source": [
    "5. PRIMER"
   ]
  },
  {
   "cell_type": "markdown",
   "metadata": {},
   "source": [
    "6. Write each system in matrix form\n",
    "   <br/>\n",
    "    \n",
    "    $$\n",
    "        \\mbox{A.}  \\ \n",
    "        \\begin{cases}\n",
    "            2x_2-x_1 = x_3 \\\\\n",
    "            4x_1 + x_3 = 7x_2 \\\\\n",
    "            x_2 - x_1 = x_3\\\\\n",
    "        \\end{cases}\n",
    "    $$\n",
    "    \n",
    "    <br/>\n",
    "    \n",
    "    $$\n",
    "        \\mbox{B.}  \\ \n",
    "        \\begin{cases}\n",
    "            2x_1 - 3x_2 = 4 \\\\\n",
    "            -x_1 + x_2 = 3 \\\\\n",
    "            3x_1 = 4\\\\\n",
    "        \\end{cases}\n",
    "    $$"
   ]
  },
  {
   "cell_type": "markdown",
   "metadata": {},
   "source": [
    "7. Suppose that \n",
    "\n",
    "    <br/>\n",
    "    \n",
    "    $$\n",
    "        A = \\begin{pmatrix}\n",
    "            2 & 4 \\\\\n",
    "            3 & 6 \n",
    "            \\end{pmatrix}\n",
    "        \\ \\ \\ \\text{,}\\ \\ \\\n",
    "        X = \\begin{pmatrix}\n",
    "            x \\\\\n",
    "            y \n",
    "            \\end{pmatrix} \\ \\ \\ \\text{and}\\ \\ \\\n",
    "            B = \\begin{pmatrix}\n",
    "            b_1 \\\\\n",
    "            b_2 \\\\\n",
    "            \\end{pmatrix}\n",
    "    $$\n",
    "    \n",
    "    <br/>\n",
    "    \n",
    "    1. Write $AX = B$ as a system of linear equations\n",
    "    \n",
    "    <br/>\n",
    "    \n",
    "    2. Show that if \n",
    "    \n",
    "    <br/>\n",
    "    \n",
    "    $$\n",
    "        B = \\begin{pmatrix}\n",
    "            3 \\\\\n",
    "            \\frac92 \\\\\n",
    "            \\end{pmatrix}\n",
    "    $$\n",
    "    \n",
    "    then $AX = B$ has infinitely many solutions. Graph the two straight lines associated with the corresponding system of linear equations, and explain why the system has infinitely many solutions.\n",
    "    \n",
    "    <br/>\n",
    "    \n",
    "    3. Find a column vector\n",
    "    \n",
    "    <br/>\n",
    "    \n",
    "    $$\n",
    "        B = \\begin{pmatrix}\n",
    "            b_1 \\\\\n",
    "            b_2 \\\\\n",
    "            \\end{pmatrix}\n",
    "    $$\n",
    "    \n",
    "    <br/>\n",
    "    \n",
    "    so that $AX = B$ has no solutions."
   ]
  },
  {
   "cell_type": "markdown",
   "metadata": {},
   "source": [
    "8. Assume that a population is divided into three age classes and that 80\\% of the individuals age 0 and 10\\% of the individuals age 1 survive until the end of the next breeding season. Assume further that individuals age 1 have an average of 1.6 female offspring and individuals age 2 have an average of 3.9 individual offspring. If, at time 0, the population consists of 1000 individuals age 0, 100 individuals age 1, and 20 individuals age 2, find the Leslie matrix and the age distribution at time 3."
   ]
  },
  {
   "cell_type": "markdown",
   "metadata": {},
   "source": [
    "9. Consider the following projection matrix representing a population with five age classes:\n",
    "\n",
    "    <br/>\n",
    "    $$\n",
    "        P = \\begin{pmatrix}\n",
    "        0 & 5 & 3 & 2 & 1 \\\\\n",
    "        0.9 & 0 & 0 & 0 & 0 \\\\\n",
    "        0 & 0.3 & 0 & 0 & 0 \\\\\n",
    "        0 & 0 & 0.1 & 0 & 0 \\\\\n",
    "        0 & 0 & 0 & 0.05 & 0 \\\\\n",
    "    \\end{pmatrix}\n",
    "    $$\n",
    "    \n",
    "    <br/>\n",
    "    \n",
    "    1. Making use of Python or R code, begin with a population distributed as $(0,0,0,0,10)$ individuals, project the population $20$ time units, and plot the total number over time. Plot the logarithm of the total population over time.\n",
    "    \n",
    "    <br/>\n",
    "    \n",
    "    2. Repeat the above but begin with $(80,16,5,1,1)$ individuals. How do these results compare to the results in A. ?"
   ]
  },
  {
   "cell_type": "markdown",
   "metadata": {},
   "source": [
    "10. In the problems below, find the eigenvalues $\\lambda_1$ and $\\lambda_2$ and corresponding eigenvectors $\\mathbf{v_1}$ and $\\mathbf{v_2}$ for each matrix $B$. Determine the equations of the lines through the origin in the direction of the eigenvectors $\\mathbf{v_1}$ and $\\mathbf{v_2}$, and graph the lines together with the eigenvectors $\\mathbf{v_1}$ and $\\mathbf{v_2}$ and the vectors $A\\mathbf{v_1}$ and $A\\mathbf{v_2}$.\n",
    "\n",
    "    <br/>\n",
    "    \n",
    "    $$\n",
    "    \\text{A.} \\ \\ B = \\begin{pmatrix}\n",
    "    2 & 3\\\\\n",
    "    0 & -1\n",
    "    \\end{pmatrix}\n",
    "    $$\n",
    "\n",
    "    <br/>\n",
    "\n",
    "    $$\n",
    "    \\text{B.} \\ \\ B = \\begin{pmatrix}\n",
    "    3 & 6\\\\\n",
    "    -1 & -4\n",
    "    \\end{pmatrix}  \n",
    "    $$"
   ]
  },
  {
   "cell_type": "markdown",
   "metadata": {},
   "source": [
    "11. Suppse that \n",
    "\n",
    "    <br/>\n",
    "    \n",
    "    $$\n",
    "    P = \\begin{pmatrix}\n",
    "    0.5 & 2.3\\\\\n",
    "    a & 0\n",
    "    \\end{pmatrix}\n",
    "    $$\n",
    "    \n",
    "    <br/>\n",
    "    \n",
    "    is the Leslie matrix of a population with two age classes. For which values of $a$ does this population grow?"
   ]
  },
  {
   "cell_type": "markdown",
   "metadata": {},
   "source": [
    "12. Suppose that \n",
    "\n",
    "    <br/>\n",
    "    \n",
    "    $$\n",
    "    P = \\begin{pmatrix}\n",
    "    0.5 & 2.0\\\\\n",
    "    0.1 & 0\n",
    "    \\end{pmatrix}\n",
    "    $$\n",
    "    \n",
    "    <br/>\n",
    "    \n",
    "    is the Leslie matrix of a population with two age classes.\n",
    "    \n",
    "    1. If you were to manage this population, would you need to be concerned about its long-term survival?\n",
    "    \n",
    "    <br/>\n",
    "    \n",
    "    2. Suppose that you can improve either the fecundity or the survival of the zero-year-olds, but due to physiological and environmental constraints, the fecundity of zero-year-olds will not exceed 1.5 and the survival of zero-year-olds will not exceed 0.4. Investigate how the growth rate of the population is affected by changing either the survival or the fecundity of zero-year-olds, or both.What would be the maximum achievable growth rate?\n",
    "    \n",
    "    <br/>\n",
    "    \n",
    "    3. In real situations, what other factors might you need to consider when you decide on management strategies?"
   ]
  }
 ],
 "metadata": {
  "kernelspec": {
   "display_name": "Python 3",
   "language": "python",
   "name": "python3"
  },
  "language_info": {
   "codemirror_mode": {
    "name": "ipython",
    "version": 3
   },
   "file_extension": ".py",
   "mimetype": "text/x-python",
   "name": "python",
   "nbconvert_exporter": "python",
   "pygments_lexer": "ipython3",
   "version": "3.7.4"
  }
 },
 "nbformat": 4,
 "nbformat_minor": 2
}
